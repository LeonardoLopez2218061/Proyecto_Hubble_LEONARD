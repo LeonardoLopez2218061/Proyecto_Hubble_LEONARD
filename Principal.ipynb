{
 "cells": [
  {
   "cell_type": "markdown",
   "metadata": {},
   "source": [
    "# Tarea para entrega\n",
    "# Jorge Leonardo López Agredo \n",
    "    ## Código: 2218061 Fecha: 05_19_2021 \n",
    "## Profesor: Ph.D. Juan Carlos Basto Pineda\n",
    "\n",
    "Se presenta el siguiente problema:"
   ]
  },
  {
   "cell_type": "markdown",
   "metadata": {},
   "source": [
    "# Informaciones para la tarea\n",
    "## Qué se tiene:\n",
    "1. Imágenes del telescopio hubble para 9 galaxias distintas: {3, 15, 37, ..., 1002}.\n",
    "1. Para cada galaxia hay imágenes en 9 bandas distintas: {105, 125, 140, ... , 850}.\n",
    "1. Para cada combinación (gal, band) hay también un mapa de pesos: weight map.\n",
    "1. Para diferenciar entre imágenes y weight maops fijarse en el sufijo en los nombres de archivo:\n",
    "- sci -> science image\n",
    "- wht -> weight map\n",
    "\n",
    " **Observación** Las imágenes en distintas bandas tienen distintas resoluciones. Si modelamos el efecto de la óptica como la convolución con una gaussiana, equivale a decir que en cada banda ha habido una convolución con gaussianas de distintos anchos característicos.\n",
    "\n",
    "### El ancho de la gaussiana, sigma, depende de la banda debido a la óptica del telescopio, no de la galaxia observada\n",
    "Estos son los sigmas medidos en pixeles:\n",
    "- \"105\":1.47,\n",
    "- \"125\":1.49,\n",
    "- \"140\":1.55,\n",
    "- \"160\":1.56,\n",
    "- \"435\":0.78,\n",
    "- \"606\":0.95,\n",
    "- \"775\":0.87,\n",
    "- \"814\":0.91,\n",
    "- \"850\":0.85"
   ]
  },
  {
   "cell_type": "markdown",
   "metadata": {},
   "source": [
    "## Comenzamos importanto algunas librerías que vamos a utilizar en el desarrollo de este notebook."
   ]
  },
  {
   "cell_type": "code",
   "execution_count": 1,
   "metadata": {},
   "outputs": [],
   "source": [
    "import numpy as np\n",
    "from astropy.io import fits\n",
    "from numpy.fft import fftshift, rfft2, irfft2\n",
    "from shutil import copyfile\n",
    "from mpl_toolkits.axes_grid1 import make_axes_locatable\n",
    "import scipy.interpolate\n",
    "from scipy import interpolate\n",
    "import pickle\n",
    "import os\n",
    "import sys\n",
    "import matplotlib.pyplot as plt"
   ]
  },
  {
   "cell_type": "markdown",
   "metadata": {},
   "source": [
    "## Vamos a crear nuestra clase base llamada *Galaxia*\n",
    "En esta clase vamos a poder obtener los datos importantes de cada galaxia, como lo son, su nombre, el filtro con el que se tomó la imagen, el tipo de archivo que estamos estudiando (**'sci'**, **'wht'**), además del correspondiente valor de **sigma** asociado al filtro utilizado.\n",
    "\n",
    "En esta clase, encontramos la oportunidad de optener el valor de `sigma` a partir del `filtro` con el cual fue observada la `galaxia estudiada`. Por otra parte, podemos importar los datos de la imagen, si conocemos el nombre de la `galaxia`, el número de `filtro` y el valor de una `bamdera` que puede ser $0$ o $1$, donde $0$ es si queremos acceder al archivo _sci_ o $1$ si queremos acceder al archivo _wht_. Finalmente, tenemos tres métodos estáticos, que nos permite acceder a los nombres de las  `posibles_galaxias`, los números de los `posibles_filtros`, y los dos `posibles_tipo_archivo` para poder `importar_imagen`."
   ]
  },
  {
   "cell_type": "code",
   "execution_count": 64,
   "metadata": {},
   "outputs": [],
   "source": [
    "class Galaxia(object):\n",
    "    \"\"\" La galaxia es la imagen que estamos estudiando, importadas \n",
    "    \n",
    "    \n",
    "    \n",
    "    \"\"\"\n",
    "    def __ini__(self):\n",
    "        self.nombre_galaxia = 3\n",
    "        self.numero_filtro = 105\n",
    "        self.tipo_archivo = 'sci'\n",
    "        self.sigma = 1.47\n",
    "    \n",
    "    def calculate_sigma(self, filtro):\n",
    "        if filtro == 105:\n",
    "            self.sigma =  1.47\n",
    "        elif filtro == 125:\n",
    "            self.sigma =  1.49\n",
    "        elif filtro == 140:\n",
    "            self.sigma =  1.55\n",
    "        elif filtro == 160:\n",
    "            self.sigma =  1.56\n",
    "        elif filtro == 435:\n",
    "            self.sigma =  0.78\n",
    "        elif filtro == 606:\n",
    "            self.sigma =  0.95\n",
    "        elif filtro == 775:\n",
    "            self.sigma =  0.87\n",
    "        elif filtro == 814:\n",
    "            self.sigma =  0.91\n",
    "        elif filtro == 850:\n",
    "            self.sigma =  0.85\n",
    "        else:\n",
    "            print(\"Error al seleccionar el filtro del telescopio.\")\n",
    "            pause\n",
    "        self.numero_filtro = filtro\n",
    "        return self.sigma\n",
    "    \n",
    "    def calculate_tipo_filtro(self, filtro):\n",
    "        if filtro == 850:\n",
    "            self.tipo_filtro = 'lp'\n",
    "        else:\n",
    "            self.tipo_filtro = 'w'\n",
    "        self.numero_filtro = filtro\n",
    "        return self.tipo_filtro\n",
    "    \n",
    "    def calculate_tipo_archivo(self, bandera):\n",
    "        if bandera == 0:\n",
    "            self.tipo_archivo = 'sci'\n",
    "        elif bandera == 1:\n",
    "            self.tipo_archivo = 'wht'\n",
    "        return self.tipo_archivo\n",
    "            \n",
    "    def importar_imagen(self, galaxia, filtro, bandera):\n",
    "        self.data = fits.open('./images_hubble/'+str(galaxia)+'_60mas_f'+str(filtro)+str(self.calculate_tipo_filtro(filtro))+\n",
    "                         '_'+str(self.calculate_tipo_archivo(bandera))+'.fits')[0].data\n",
    "        return self.data\n",
    "    \n",
    "    @staticmethod\n",
    "    def posibles_galaxias():\n",
    "        return [3, 15, 37, 912, 919, 937, 943, 982, 1002]\n",
    "    \n",
    "    @staticmethod\n",
    "    def posibles_filtros():\n",
    "        return [105, 125, 140, 160, 435, 606, 775, 814, 850]\n",
    "    \n",
    "    @staticmethod        \n",
    "    def posibles_tipo_archivo():\n",
    "        return ['sci', 'wht']"
   ]
  },
  {
   "cell_type": "markdown",
   "metadata": {},
   "source": [
    "## Clase Principal\n",
    "\n",
    "Nuestra clase Principal, es una subclase de la superclase Galaxia.\n",
    "\n",
    "Creamos esta clase para poder hacer entre otras cosas, las convoluciones necesarias de una imagen, con una nueva `sigma`. Además, podemos igualar las resoluciones de dos filtros diferentes de una misma galaxia, calculando la `sigma_final` equivalente. Finalmente, podemos mostrar la imagen en pantalla de la galaxia, ya sea, la original  `data = data_sci`, la de los pesos `data = data_wht`, o la imagen convolucionada con la `sigma_final` equivalente, llamada `data = data_conv`; las cuales son propias de cada galaxia y filtro correspondiente.\n"
   ]
  },
  {
   "cell_type": "code",
   "execution_count": 65,
   "metadata": {},
   "outputs": [],
   "source": [
    "class Principal(Galaxia):\n",
    "    \n",
    "    def __init__(self, galaxia, filtro):\n",
    "        #super(Principal, self).__init__(filtro(filtro))\n",
    "        self.nombre_galaxia = galaxia\n",
    "        self.numero_filtro = filtro\n",
    "        self.data_sci = self.importar_imagen(galaxia, filtro, 0 )\n",
    "        self.data_wht = self.importar_imagen(galaxia, filtro, 1)\n",
    "        self.sigma = self.calculate_sigma(filtro)\n",
    "        self.tipo_filtro = self.calculate_tipo_filtro(filtro)\n",
    "        self.varianza = 1/self.data_wht\n",
    "      \n",
    "    \n",
    "    def direct_convolution(self, data,sigma,kernel_square=False):\n",
    "        FWHM = sigma * (2 * np.sqrt(2 * np.log(2)))\n",
    "        FWHM = np.int(FWHM)+1\n",
    "        data2 = np.zeros((data.shape[0] + 2 * FWHM, data.shape[1] + 2 * FWHM))\n",
    "        data2[FWHM:data.shape[0] + FWHM, FWHM:data.shape[1] + FWHM] = data\n",
    "        y, x = np.indices((data2.shape))\n",
    "        psf = (1. / (2 * np.pi * sigma ** 2)) * np.exp(-((x - data2.shape[1] / 2) ** 2 +\n",
    "                                                         (y - data2.shape[0] / 2) ** 2) / (2.0 * sigma ** 2))\n",
    "        psf /= psf.sum()  # normalisation PSF\n",
    "        if kernel_square:\n",
    "            psf = psf**2\n",
    "        psf_shift = fftshift(psf)\n",
    "        data_conv = irfft2(rfft2(data2) * rfft2(psf_shift))\n",
    "        self.data_conv = data_conv[FWHM:data.shape[0] + FWHM, FWHM:data.shape[1] + FWHM]\n",
    "        return self.data_conv\n",
    "    \n",
    "    def equate_resolutions(self, filtro1, filtro2):\n",
    "        sigma1 = self.calculate_sigma(filtro1)\n",
    "        sigma2 = self.calculate_sigma(filtro2)\n",
    "        self.sigma_final = np.sqrt(np.abs(sigma1**2-sigma2**2))\n",
    "        return self.sigma_final\n",
    "    \n",
    "    def mostrar_imagen(self,data):\n",
    "        return plt.imshow(np.log10(data))\n",
    "    \n",
    "    \n",
    "            \n",
    "    "
   ]
  },
  {
   "cell_type": "code",
   "execution_count": 66,
   "metadata": {},
   "outputs": [],
   "source": [
    "galaxia_1 = Galaxia()"
   ]
  },
  {
   "cell_type": "code",
   "execution_count": 67,
   "metadata": {},
   "outputs": [
    {
     "data": {
      "text/plain": [
       "1.56"
      ]
     },
     "execution_count": 67,
     "metadata": {},
     "output_type": "execute_result"
    }
   ],
   "source": [
    "galaxia_1.calculate_sigma(160)"
   ]
  },
  {
   "cell_type": "code",
   "execution_count": 69,
   "metadata": {},
   "outputs": [
    {
     "data": {
      "text/plain": [
       "'sci'"
      ]
     },
     "execution_count": 69,
     "metadata": {},
     "output_type": "execute_result"
    }
   ],
   "source": [
    "galaxia_1.calculate_tipo_archivo(0)"
   ]
  },
  {
   "cell_type": "code",
   "execution_count": 70,
   "metadata": {},
   "outputs": [],
   "source": [
    "galaxia = Principal(3, 160)"
   ]
  },
  {
   "cell_type": "code",
   "execution_count": 71,
   "metadata": {},
   "outputs": [
    {
     "data": {
      "text/plain": [
       "1.56"
      ]
     },
     "execution_count": 71,
     "metadata": {},
     "output_type": "execute_result"
    }
   ],
   "source": [
    "galaxia.sigma"
   ]
  },
  {
   "cell_type": "code",
   "execution_count": 72,
   "metadata": {},
   "outputs": [
    {
     "data": {
      "text/plain": [
       "array([[1.54062061e-04, 2.64994530e-04, 3.61326398e-04, ...,\n",
       "        6.33782384e-04, 4.68288543e-04, 2.97282471e-04],\n",
       "       [1.11159934e-04, 2.33299969e-04, 3.62244513e-04, ...,\n",
       "        8.20498599e-04, 6.02189311e-04, 3.80992502e-04],\n",
       "       [2.76506201e-05, 1.33270241e-04, 2.78395726e-04, ...,\n",
       "        9.28074060e-04, 6.81641643e-04, 4.37449373e-04],\n",
       "       ...,\n",
       "       [2.13143542e-04, 2.29526878e-04, 1.70832479e-04, ...,\n",
       "        2.40264544e-03, 1.85747286e-03, 1.25832660e-03],\n",
       "       [2.80031727e-04, 3.37802122e-04, 3.09127826e-04, ...,\n",
       "        1.91956763e-03, 1.50103361e-03, 1.02477028e-03],\n",
       "       [2.76840137e-04, 3.51911355e-04, 3.48379971e-04, ...,\n",
       "        1.34847376e-03, 1.06070643e-03, 7.26482875e-04]])"
      ]
     },
     "execution_count": 72,
     "metadata": {},
     "output_type": "execute_result"
    }
   ],
   "source": [
    "galaxia.direct_convolution(galaxia.data_sci, galaxia.sigma, False)"
   ]
  },
  {
   "cell_type": "code",
   "execution_count": 73,
   "metadata": {},
   "outputs": [
    {
     "data": {
      "text/plain": [
       "array([[1253008.9, 1277002.5, 1300356.5, ..., 1253080.6, 1210240.4,\n",
       "        1236647.9],\n",
       "       [1246919. , 1297574.9, 1286220.2, ..., 1290028. , 1194738.2,\n",
       "        1256749.4],\n",
       "       [1294797.5, 1272056.4, 1255762.4, ..., 1242739.4, 1291084.9,\n",
       "        1257625.9],\n",
       "       ...,\n",
       "       [1223000.9, 1257750.6, 1198383.1, ..., 1211168. , 1280035.5,\n",
       "        1293776.4],\n",
       "       [1238828.5, 1195469. , 1254039.5, ..., 1208715. , 1276739.6,\n",
       "        1228014.1],\n",
       "       [1245145.6, 1221083.9, 1249130.9, ..., 1322291.8, 1225711.5,\n",
       "        1257073. ]], dtype=float32)"
      ]
     },
     "execution_count": 73,
     "metadata": {},
     "output_type": "execute_result"
    }
   ],
   "source": [
    "galaxia.data_wht"
   ]
  },
  {
   "cell_type": "code",
   "execution_count": 74,
   "metadata": {},
   "outputs": [
    {
     "data": {
      "text/plain": [
       "array([[ 6.0588302e-04,  1.1158418e-03,  1.0646536e-03, ...,\n",
       "         1.3378209e-03,  8.8098331e-04,  8.2477997e-04],\n",
       "       [-3.3854603e-04,  7.2459382e-04,  6.3303689e-04, ...,\n",
       "         8.0264371e-04,  5.2641012e-04,  1.8974891e-04],\n",
       "       [-7.4099813e-04, -5.7687434e-05, -4.3935532e-05, ...,\n",
       "         1.2957642e-03,  7.8720920e-04,  1.1680541e-04],\n",
       "       ...,\n",
       "       [ 3.9465723e-04, -2.5122188e-04, -1.5193266e-04, ...,\n",
       "         2.3122532e-03,  2.0254136e-03,  1.6808953e-03],\n",
       "       [ 5.6971854e-04,  6.3739659e-04,  9.4994501e-04, ...,\n",
       "         2.3474188e-03,  2.1389716e-03,  1.4649390e-03],\n",
       "       [ 1.0391477e-03,  1.2483343e-03,  1.0353584e-03, ...,\n",
       "         1.9277881e-03,  1.7537033e-03,  1.2241240e-03]], dtype=float32)"
      ]
     },
     "execution_count": 74,
     "metadata": {},
     "output_type": "execute_result"
    }
   ],
   "source": [
    "galaxia.data_sci"
   ]
  },
  {
   "cell_type": "code",
   "execution_count": 75,
   "metadata": {},
   "outputs": [
    {
     "data": {
      "text/plain": [
       "1.1993331480451959"
      ]
     },
     "execution_count": 75,
     "metadata": {},
     "output_type": "execute_result"
    }
   ],
   "source": [
    "galaxia.equate_resolutions(105, 850)"
   ]
  },
  {
   "cell_type": "code",
   "execution_count": 76,
   "metadata": {},
   "outputs": [
    {
     "name": "stderr",
     "output_type": "stream",
     "text": [
      "<ipython-input-65-54270073adb7>:37: RuntimeWarning: invalid value encountered in log10\n",
      "  return plt.imshow(np.log10(data))\n"
     ]
    },
    {
     "data": {
      "text/plain": [
       "<matplotlib.image.AxesImage at 0x228fb8d9280>"
      ]
     },
     "execution_count": 76,
     "metadata": {},
     "output_type": "execute_result"
    },
    {
     "data": {
      "image/png": "[encoded data removed]",
      "text/plain": [
       "<Figure size 432x288 with 1 Axes>"
      ]
     },
     "metadata": {
      "needs_background": "light"
     },
     "output_type": "display_data"
    }
   ],
   "source": [
    "galaxia.mostrar_imagen(galaxia.data_sci)"
   ]
  },
  {
   "cell_type": "code",
   "execution_count": 77,
   "metadata": {},
   "outputs": [
    {
     "data": {
      "text/plain": [
       "array([[7.9807893e-07, 7.8308381e-07, 7.6901989e-07, ..., 7.9803323e-07,\n",
       "        8.2628213e-07, 8.0863765e-07],\n",
       "       [8.0197674e-07, 7.7066846e-07, 7.7747183e-07, ..., 7.7517700e-07,\n",
       "        8.3700343e-07, 7.9570361e-07],\n",
       "       [7.7232153e-07, 7.8612868e-07, 7.9632900e-07, ..., 8.0467396e-07,\n",
       "        7.7454240e-07, 7.9514905e-07],\n",
       "       ...,\n",
       "       [8.1766092e-07, 7.9507015e-07, 8.3445769e-07, ..., 8.2564929e-07,\n",
       "        7.8122832e-07, 7.7293112e-07],\n",
       "       [8.0721424e-07, 8.3649178e-07, 7.9742307e-07, ..., 8.2732487e-07,\n",
       "        7.8324507e-07, 8.1432290e-07],\n",
       "       [8.0311889e-07, 8.1894456e-07, 8.0055662e-07, ..., 7.5626275e-07,\n",
       "        8.1585267e-07, 7.9549875e-07]], dtype=float32)"
      ]
     },
     "execution_count": 77,
     "metadata": {},
     "output_type": "execute_result"
    }
   ],
   "source": [
    "galaxia.varianza"
   ]
  },
  {
   "cell_type": "code",
   "execution_count": 78,
   "metadata": {},
   "outputs": [
    {
     "data": {
      "text/plain": [
       "3"
      ]
     },
     "execution_count": 78,
     "metadata": {},
     "output_type": "execute_result"
    }
   ],
   "source": [
    "galaxia."
   ]
  },
  {
   "cell_type": "code",
   "execution_count": null,
   "metadata": {},
   "outputs": [],
   "source": []
  }
 ],
 "metadata": {
  "kernelspec": {
   "display_name": "Python 3",
   "language": "python",
   "name": "python3"
  },
  "language_info": {
   "codemirror_mode": {
    "name": "ipython",
    "version": 3
   },
   "file_extension": ".py",
   "mimetype": "text/x-python",
   "name": "python",
   "nbconvert_exporter": "python",
   "pygments_lexer": "ipython3",
   "version": "3.8.5"
  }
 },
 "nbformat": 4,
 "nbformat_minor": 4
}
