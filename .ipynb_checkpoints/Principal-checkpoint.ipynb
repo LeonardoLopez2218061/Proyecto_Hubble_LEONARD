{
 "cells": [
  {
   "cell_type": "markdown",
   "metadata": {},
   "source": [
    "# Tarea para entrega\n",
    "# Jorge Leonardo López Agredo \n",
    "\n",
    "| Código:    |$2218061$    |\n",
    "|------------|----------:  |\n",
    "|Fecha:      |05_19_2021   |\n",
    "\n",
    "## Profesor: Ph.D. Juan Carlos Basto Pineda\n",
    "\n",
    "Se presenta el siguiente problema:"
   ]
  },
  {
   "cell_type": "markdown",
   "metadata": {},
   "source": [
    "# Informaciones para la tarea\n",
    "## Qué se tiene:\n",
    "1. Imágenes del telescopio hubble para 9 galaxias distintas: {3, 15, 37, ..., 1002}.\n",
    "1. Para cada galaxia hay imágenes en 9 bandas distintas: {105, 125, 140, ... , 850}.\n",
    "1. Para cada combinación (gal, band) hay también un mapa de pesos: weight map.\n",
    "1. Para diferenciar entre imágenes y weight maops fijarse en el sufijo en los nombres de archivo:\n",
    "- sci -> science image\n",
    "- wht -> weight map\n",
    "\n",
    " **Observación** Las imágenes en distintas bandas tienen distintas resoluciones. Si modelamos el efecto de la óptica como la convolución con una gaussiana, equivale a decir que en cada banda ha habido una convolución con gaussianas de distintos anchos característicos.\n",
    "\n",
    "### El ancho de la gaussiana, sigma, depende de la banda debido a la óptica del telescopio, no de la galaxia observada\n",
    "Estos son los sigmas medidos en píxeles:\n",
    "- \"105\":1.47,\n",
    "- \"125\":1.49,\n",
    "- \"140\":1.55,\n",
    "- \"160\":1.56,\n",
    "- \"435\":0.78,\n",
    "- \"606\":0.95,\n",
    "- \"775\":0.87,\n",
    "- \"814\":0.91,\n",
    "- \"850\":0.85"
   ]
  },
  {
   "cell_type": "markdown",
   "metadata": {},
   "source": [
    "## Comenzamos importanto algunas librerías que vamos a utilizar en el desarrollo de este notebook."
   ]
  },
  {
   "cell_type": "code",
   "execution_count": 1,
   "metadata": {},
   "outputs": [],
   "source": [
    "import numpy as np\n",
    "from astropy.io import fits\n",
    "from numpy.fft import fftshift, rfft2, irfft2\n",
    "from shutil import copyfile\n",
    "from mpl_toolkits.axes_grid1 import make_axes_locatable\n",
    "import scipy.interpolate\n",
    "from scipy import interpolate\n",
    "import pickle\n",
    "import os\n",
    "import sys\n",
    "import matplotlib.pyplot as plt"
   ]
  },
  {
   "cell_type": "markdown",
   "metadata": {},
   "source": [
    "## Vamos a crear nuestra clase base llamada *Galaxia*\n",
    "En esta clase vamos a poder obtener los datos importantes de cada galaxia, como lo son, su nombre, el filtro con el que se tomó la imagen, el tipo de archivo que estamos estudiando (**'sci'**, **'wht'**), además del correspondiente valor de **sigma** asociado al filtro utilizado.\n",
    "\n",
    "En esta clase, encontramos la oportunidad de optener el valor de `sigma` a partir del `filtro` con el cual fue observada la `galaxia estudiada`. Por otra parte, podemos importar los datos de la imagen, si conocemos el nombre de la `galaxia`, el número de `filtro` y el valor de una `bandera` que puede ser $0$ o $1$, donde $0$ es si queremos acceder al archivo _sci_ o $1$ si queremos acceder al archivo _wht_. Finalmente, tenemos tres métodos estáticos, que nos permite acceder a los nombres de las  `posibles_galaxias`, los números de los `posibles_filtros`, y los dos `posibles_tipo_archivo` para poder `importar_imagen`."
   ]
  },
  {
   "cell_type": "code",
   "execution_count": 2,
   "metadata": {},
   "outputs": [],
   "source": [
    "class Galaxia(object):\n",
    "    \"\"\" La galaxia es la imagen que estamos estudiando, importadas desde\n",
    "    la carpeta images_hubble.\n",
    "    \n",
    "    Atributos:\n",
    "    ----------\n",
    "    * nombre_galaxia : es el nombre de la galaxia, para la cual existen 9 opciones. Ver posibles_galaxias(). \n",
    "    * numero_filtro : es el número del filtro con el que se ve la galaxia, de los cuales existen 9 opciones.\n",
    "    Ver posibles_filtros().\n",
    "    * tipo_archivo : dícese de si se tiene la imagen científica(sci) o el mapa de pesos(wth) de la galaxia.\n",
    "    * sigma : es el valor de sigma asociado a cada filtro.    \n",
    "    \n",
    "    \"\"\"\n",
    "    def __ini__(self):\n",
    "        \"\"\" Inicializa la galaxia con valores por defecto para el nombre de la galaxia: nombre_galaxia,\n",
    "        el número de filtro: numero_filtro, el tipo de archivo: tipo_archivo y el valor de sigma: sigma. \n",
    "        \n",
    "        \"\"\"\n",
    "        self.nombre_galaxia = 3\n",
    "        self.numero_filtro = 105\n",
    "        self.tipo_archivo = 'sci'\n",
    "        self.sigma = 1.47\n",
    "    \n",
    "    def calculate_sigma(self, filtro):\n",
    "        \"\"\"Dado el valor del filtro, calcula  y devuelve el valor de sigma asociado a ese filtro, guardándolo en \n",
    "        el atributo sigma.\n",
    "        \n",
    "        \"\"\"\n",
    "        if filtro == 105:\n",
    "            self.sigma =  1.47\n",
    "        elif filtro == 125:\n",
    "            self.sigma =  1.49\n",
    "        elif filtro == 140:\n",
    "            self.sigma =  1.55\n",
    "        elif filtro == 160:\n",
    "            self.sigma =  1.56\n",
    "        elif filtro == 435:\n",
    "            self.sigma =  0.78\n",
    "        elif filtro == 606:\n",
    "            self.sigma =  0.95\n",
    "        elif filtro == 775:\n",
    "            self.sigma =  0.87\n",
    "        elif filtro == 814:\n",
    "            self.sigma =  0.91\n",
    "        elif filtro == 850:\n",
    "            self.sigma =  0.85\n",
    "        else:\n",
    "            print(\"Error al seleccionar el filtro del telescopio.\")# En caso que el valor de filtro no sea el adecuado.\n",
    "        return self.sigma\n",
    "    \n",
    "    def calculate_tipo_filtro(self, filtro):\n",
    "        \"\"\" Dado el número de filtro, existe una excepción para el filtro número 850, el cual es 850lp.\n",
    "        \n",
    "        Devuelve el valor del tipo del filtro y lo guarda en el atributo tipo_filtro.\n",
    "        \n",
    "        \"\"\"\n",
    "        if filtro == 850:\n",
    "            self.tipo_filtro = 'lp'\n",
    "        else:\n",
    "            self.tipo_filtro = 'w'\n",
    "        self.numero_filtro = filtro\n",
    "        return self.tipo_filtro\n",
    "    \n",
    "    def calculate_tipo_archivo(self, bandera):\n",
    "        \"\"\" Permite escoger el tipo de archivo: tipo_archivo siendo dependiente del valor de una `bandera` que puede\n",
    "        ser $0$ o $1$, donde $0$ es si queremos acceder al archivo _sci o $1$ si queremos acceder al archivo _wht. \n",
    "        \n",
    "        Este dato es guardado en el atributo tipo_archivo.\n",
    "        \n",
    "        \"\"\"\n",
    "        if bandera == 0:\n",
    "            self.tipo_archivo = 'sci'\n",
    "        elif bandera == 1:\n",
    "            self.tipo_archivo = 'wht'\n",
    "        return self.tipo_archivo\n",
    "            \n",
    "    def importar_imagen(self, galaxia, filtro, bandera):\n",
    "        \"\"\" Permite importar los datos de la imagen, si conocemos el nombre de la `galaxia`, el número de `filtro` y \n",
    "        el valor de una `bandera` que puede ser $0$ o $1$, donde $0$ es si queremos acceder al archivo _sci o \n",
    "        $1$ si queremos acceder al archivo _wht. \n",
    "        \n",
    "        Retorna una matriz data que contiene la información de la imagen de la galaxia, la cual es guardado como el atributo\n",
    "        data.\n",
    "        \n",
    "        Guarda la información importante de la galaxia como lo son, su nombre, el filtro, el valor de sigma, el tipo de filtro\n",
    "        y el tipo de archivo de la imagen importada.\n",
    "        \n",
    "        \"\"\"\n",
    "        self.nombre_galaxia = galaxia\n",
    "        self.numero_filtro = filtro\n",
    "        self.sigma = self.calculate_sigma(filtro)\n",
    "        self.tipo_filtro = self.calculate_tipo_filtro(filtro)\n",
    "        self.tipo_archivo = self.calculate_tipo_archivo(filtro)\n",
    "        self.data = fits.open('./images_hubble/'+str(galaxia)+'_60mas_f'+str(filtro)+str(self.calculate_tipo_filtro(filtro))+\n",
    "                         '_'+str(self.calculate_tipo_archivo(bandera))+'.fits')[0].data\n",
    "        return self.data\n",
    "    \n",
    "    @staticmethod # Decorador que permite que se cree un método estático\n",
    "    def posibles_galaxias():\n",
    "        return [3, 15, 37, 912, 919, 937, 943, 982, 1002]\n",
    "    \n",
    "    @staticmethod # Decorador que permite que se cree un método estático\n",
    "    def posibles_filtros():\n",
    "        return [105, 125, 140, 160, 435, 606, 775, 814, 850]\n",
    "    \n",
    "    @staticmethod # Decorador que permite que se cree un método estático      \n",
    "    def posibles_tipo_archivo():\n",
    "        return ['sci', 'wht']"
   ]
  },
  {
   "cell_type": "markdown",
   "metadata": {},
   "source": [
    "## Creamos ahora una instancia\n",
    "\n",
    "Esta tiene por nombre *galaxia_1* y es creada a partir de la clase *Galaxia()*. Calculemos algunos métodos de esta instancia. "
   ]
  },
  {
   "cell_type": "code",
   "execution_count": 3,
   "metadata": {},
   "outputs": [],
   "source": [
    "galaxia_1 = Galaxia()"
   ]
  },
  {
   "cell_type": "code",
   "execution_count": 4,
   "metadata": {},
   "outputs": [],
   "source": [
    "galaxia_1.importar_imagen?"
   ]
  },
  {
   "cell_type": "code",
   "execution_count": 5,
   "metadata": {},
   "outputs": [
    {
     "data": {
      "text/plain": [
       "1.56"
      ]
     },
     "execution_count": 5,
     "metadata": {},
     "output_type": "execute_result"
    }
   ],
   "source": [
    "galaxia_1.calculate_sigma(160)"
   ]
  },
  {
   "cell_type": "code",
   "execution_count": 6,
   "metadata": {},
   "outputs": [
    {
     "data": {
      "text/plain": [
       "'sci'"
      ]
     },
     "execution_count": 6,
     "metadata": {},
     "output_type": "execute_result"
    }
   ],
   "source": [
    "galaxia_1.calculate_tipo_archivo(0)"
   ]
  },
  {
   "cell_type": "code",
   "execution_count": 7,
   "metadata": {},
   "outputs": [
    {
     "data": {
      "text/plain": [
       "array([[ 1.6993750e-03, -7.5485068e-04,  4.2917259e-04, ...,\n",
       "        -2.1319717e-04,  3.6417166e-04,  9.9077739e-04],\n",
       "       [-7.4635504e-04, -1.0242722e-03,  4.7468673e-04, ...,\n",
       "         2.2312341e-04,  1.6481386e-03,  3.0393281e-04],\n",
       "       [ 3.0203920e-04, -4.6990707e-04,  6.4725798e-05, ...,\n",
       "         8.6592603e-04, -7.2035484e-04, -2.5922153e-04],\n",
       "       ...,\n",
       "       [ 4.8954680e-06,  3.4004304e-04, -6.8773009e-04, ...,\n",
       "        -1.5570763e-04,  1.4954596e-04,  1.7486213e-04],\n",
       "       [-1.3989531e-03,  4.8246316e-04,  4.2578194e-04, ...,\n",
       "        -1.1260868e-03,  3.1447847e-04, -2.2863902e-04],\n",
       "       [ 9.5824210e-04, -2.8419701e-04,  4.7636370e-04, ...,\n",
       "        -3.2041379e-04,  4.7026479e-05,  5.4564374e-04]], dtype=float32)"
      ]
     },
     "execution_count": 7,
     "metadata": {},
     "output_type": "execute_result"
    }
   ],
   "source": [
    "galaxia_1.importar_imagen(919, 435, 0)"
   ]
  },
  {
   "cell_type": "code",
   "execution_count": 8,
   "metadata": {},
   "outputs": [
    {
     "data": {
      "text/plain": [
       "'hola, soy una galaxia y me llamo 919, me fotografiaron con el filtro número 435'"
      ]
     },
     "execution_count": 8,
     "metadata": {},
     "output_type": "execute_result"
    }
   ],
   "source": [
    "'hola, soy una galaxia y me llamo '+ str(galaxia_1.nombre_galaxia)+', me fotografiaron con el filtro número '+str(galaxia_1.numero_filtro)\n"
   ]
  },
  {
   "cell_type": "markdown",
   "metadata": {},
   "source": [
    "## Clase Principal\n",
    "\n",
    "Ya tenemos nuestra galaxia como una instancia. Vamos a jugar un poco con ella. Para ello,definamos nuestra clase Principal, es una subclase de la superclase Galaxia.\n",
    "\n",
    "Creamos esta clase para poder hacer entre otras cosas, las convoluciones necesarias de una imagen, con una nueva `sigma`. Además, podemos igualar las resoluciones de dos filtros diferentes de una misma galaxia, calculando la `sigma_final` equivalente. Finalmente, podemos mostrar la imagen en pantalla de la galaxia, ya sea, la original  `data = data_sci`, la de los pesos `data = data_wht`, o la imagen convolucionada con la `sigma_final` equivalente, llamada `data = data_conv`; las cuales son propias de cada galaxia y filtro correspondiente.\n"
   ]
  },
  {
   "cell_type": "code",
   "execution_count": 9,
   "metadata": {},
   "outputs": [],
   "source": [
    "class Principal(Galaxia):\n",
    "    \n",
    "    def __init__(self, galaxia, filtro):\n",
    "        self.tipo_archivo = 'sci'\n",
    "        self.nombre_galaxia = galaxia # guarda el nombre de la galaxia.\n",
    "        self.numero_filtro = filtro # guarda el número del filtro con el que se observa la galaxia.\n",
    "        self.data_sci = self.importar_imagen(galaxia, filtro, 0 )# guarda la información de la imagen científica.\n",
    "        self.data_wht = self.importar_imagen(galaxia, filtro, 1)# guarda la información de los mapas de peso de la galaxia.\n",
    "        self.sigma = self.calculate_sigma(filtro)\n",
    "        self.tipo_filtro = self.calculate_tipo_filtro(filtro)\n",
    "        self.varianza = 1/self.data_wht #Calcula la varianza de cada píxel para la galaxia dada.\n",
    "      \n",
    "    # función que devuelve la convolución de la imagen con el kernel gaussiano mediante transformada de Fourier.\n",
    "    def direct_convolution(self, data,sigma,kernel_square=False):\n",
    "        \"\"\" Tomando como información la imagen guardada en la matriz data, y el valor de sigma, devuelve la convolución\n",
    "        directa entre la imagen y el kernel gaussiano asociado al valor de sigma, esto mediante transformada de Fourier y\n",
    "        lo asigna a un atributo de nombre data_conv.\n",
    "        \n",
    "        Devuelve la matriz data_conv.\n",
    "        \n",
    "        \"\"\"\n",
    "        FWHM = sigma * (2 * np.sqrt(2 * np.log(2)))\n",
    "        FWHM = np.int(FWHM)+1\n",
    "        data2 = np.zeros((data.shape[0] + 2 * FWHM, data.shape[1] + 2 * FWHM))\n",
    "        data2[FWHM:data.shape[0] + FWHM, FWHM:data.shape[1] + FWHM] = data\n",
    "        y, x = np.indices((data2.shape))\n",
    "        psf = (1. / (2 * np.pi * sigma ** 2)) * np.exp(-((x - data2.shape[1] / 2) ** 2 +\n",
    "                                                         (y - data2.shape[0] / 2) ** 2) / (2.0 * sigma ** 2))\n",
    "        psf /= psf.sum()  # normalisation PSF\n",
    "        if kernel_square:\n",
    "            psf = psf**2\n",
    "        psf_shift = fftshift(psf)\n",
    "        data_conv = irfft2(rfft2(data2) * rfft2(psf_shift))\n",
    "        self.data_conv = data_conv[FWHM:data.shape[0] + FWHM, FWHM:data.shape[1] + FWHM]\n",
    "        return self.data_conv\n",
    "    \n",
    "    #Para el cálculo del valor de sigma_final, dados dos filtros diferentes.\n",
    "    def equate_resolutions(self, filtro1, filtro2):\n",
    "        \"\"\" Dado el valor de dos filtros, `filtro1` y `filtro2` respectivamente, con los cuales se ha visto\n",
    "        una misma galaxia, devuelve el valor de sigma final: sigma_final.\n",
    "        \n",
    "        Devuelve y guarda el valor de este sigma_final, además de guardar el valor de los dos sigmas asociados a los \n",
    "        filtros estudiados.\n",
    "        \n",
    "        \"\"\"\n",
    "        self.sigma1 = self.calculate_sigma(filtro1)\n",
    "        self.sigma2 = self.calculate_sigma(filtro2)\n",
    "        self.sigma_final = np.sqrt(np.abs(self.sigma1**2-self.sigma2**2))\n",
    "        return self.sigma_final\n",
    "    \n",
    "    # Permite ver la imagen en pantalla.\n",
    "    def mostrar_imagen(self,data):\n",
    "        \"\"\" Permite visualizar la imagen guardada en data, sea cual sea esta imagen asociada a la galaxia, es decir,\n",
    "        data = data, data_sci, data_wht, data_conv.\n",
    "        \n",
    "        Para mejorar la visualización, utiliza una escala logarítmica en base 10.\n",
    "        \n",
    "        \"\"\"\n",
    "        return plt.imshow(np.log10(data))\n",
    " "
   ]
  },
  {
   "cell_type": "markdown",
   "metadata": {},
   "source": [
    "## Usando la subclase Principal()\n",
    "\n",
    "La clase `Principal(Galaxia)` es una subclase de la clase base `Galaxia()`. Para poder crear una instacia de Principal() requiere de dos datos importantes como lo son el nombre de la galaxia y el tipo de filtro con el que se se ve la galaxia estudiada.\n",
    "\n",
    "Creamos una instacia llamada galaxia, cuyo nombre es $3$ y fue fotografiada usando el filtro $160$w. "
   ]
  },
  {
   "cell_type": "code",
   "execution_count": 10,
   "metadata": {},
   "outputs": [],
   "source": [
    "galaxia = Principal(3, 850)"
   ]
  },
  {
   "cell_type": "code",
   "execution_count": 11,
   "metadata": {},
   "outputs": [],
   "source": [
    "galaxia.__ini__?"
   ]
  },
  {
   "cell_type": "markdown",
   "metadata": {},
   "source": [
    "### Calculando la convolución directa\n",
    "\n",
    "Tomando el valor de la imagen científica, asociada en el objeto `galaxia.data.sci`y el valor de una `sigma_final` calculada a partir del valor de `sigma`asociada al filtro y un filtro test $=160$."
   ]
  },
  {
   "cell_type": "code",
   "execution_count": 20,
   "metadata": {},
   "outputs": [
    {
     "data": {
      "text/plain": [
       "array([[ 8.96736125e-05,  1.30658953e-04,  1.80836475e-04, ...,\n",
       "         1.95244805e-04,  1.79009934e-04,  1.24237996e-04],\n",
       "       [ 6.82217062e-05,  1.20122059e-04,  1.96594246e-04, ...,\n",
       "         2.49635576e-04,  2.05928120e-04,  1.39359329e-04],\n",
       "       [ 2.91051525e-05,  8.15893065e-05,  1.67858376e-04, ...,\n",
       "         2.37646191e-04,  1.88649208e-04,  1.35085017e-04],\n",
       "       ...,\n",
       "       [ 8.23013599e-05,  6.93953182e-05,  4.32070573e-05, ...,\n",
       "         1.02848610e-03,  8.67949112e-04,  5.87232449e-04],\n",
       "       [ 6.69359863e-06,  1.87325411e-05,  3.66765306e-05, ...,\n",
       "         8.63984287e-04,  7.12716070e-04,  4.51041354e-04],\n",
       "       [-5.08092752e-05, -2.37362432e-05,  2.79291263e-05, ...,\n",
       "         6.13568254e-04,  4.88687370e-04,  2.87850497e-04]])"
      ]
     },
     "execution_count": 20,
     "metadata": {},
     "output_type": "execute_result"
    }
   ],
   "source": [
    "galaxia.direct_convolution(galaxia.data_sci, galaxia.equate_resolutions(galaxia.numero_filtro,160), False)"
   ]
  },
  {
   "cell_type": "markdown",
   "metadata": {},
   "source": [
    "## Juguemos y exploremos los atributos de la galaxia estudiada.\n",
    "\n",
    "Mostremos algunos de sus atributos y objetos asociadados en la instacia."
   ]
  },
  {
   "cell_type": "code",
   "execution_count": 21,
   "metadata": {},
   "outputs": [
    {
     "data": {
      "text/plain": [
       "array([[6148864.5, 5671329. , 5653250. , ..., 5835285.5, 5808304. ,\n",
       "        5878390. ],\n",
       "       [5827606. , 5864864.5, 5827865. , ..., 5890985. , 5958548.5,\n",
       "        5880229.5],\n",
       "       [5785877. , 5604866. , 5741424. , ..., 5978520. , 6041784. ,\n",
       "        6080732.5],\n",
       "       ...,\n",
       "       [5777598.5, 5908238.5, 5880603.5, ..., 5868774. , 5745565. ,\n",
       "        5547691. ],\n",
       "       [5792807.5, 5896533. , 5725341. , ..., 6006228.5, 6066960. ,\n",
       "        5709974.5],\n",
       "       [5764958. , 5731808. , 5885601.5, ..., 5936784. , 5830190. ,\n",
       "        5623933. ]], dtype=float32)"
      ]
     },
     "execution_count": 21,
     "metadata": {},
     "output_type": "execute_result"
    }
   ],
   "source": [
    "galaxia.data_wht"
   ]
  },
  {
   "cell_type": "code",
   "execution_count": 22,
   "metadata": {},
   "outputs": [
    {
     "data": {
      "text/plain": [
       "array([[ 4.4865513e-04,  1.3236058e-04,  4.4011246e-04, ...,\n",
       "         2.3859600e-04,  6.9942465e-04,  4.5021309e-04],\n",
       "       [ 2.5906597e-04,  3.4694327e-04, -1.4308401e-04, ...,\n",
       "         6.5182068e-04,  7.0388371e-05, -2.4636360e-04],\n",
       "       [-3.7763466e-04, -3.0759303e-04,  3.2237021e-04, ...,\n",
       "        -1.0362128e-06,  8.7005174e-05,  5.5716513e-04],\n",
       "       ...,\n",
       "       [ 1.7518076e-04,  1.0540683e-04, -5.5108365e-05, ...,\n",
       "         1.6177434e-03,  9.8994607e-04,  1.2418341e-03],\n",
       "       [ 2.2557491e-04,  2.0661467e-04,  1.4910175e-04, ...,\n",
       "         1.2119389e-03,  8.0414355e-04, -3.4429453e-05],\n",
       "       [-7.8770239e-04, -3.5765563e-04,  1.5653271e-04, ...,\n",
       "         9.8025659e-04,  1.1619153e-03,  7.4819021e-05]], dtype=float32)"
      ]
     },
     "execution_count": 22,
     "metadata": {},
     "output_type": "execute_result"
    }
   ],
   "source": [
    "galaxia.data_sci"
   ]
  },
  {
   "cell_type": "code",
   "execution_count": 23,
   "metadata": {},
   "outputs": [
    {
     "data": {
      "text/plain": [
       "850"
      ]
     },
     "execution_count": 23,
     "metadata": {},
     "output_type": "execute_result"
    }
   ],
   "source": [
    "galaxia.numero_filtro"
   ]
  },
  {
   "cell_type": "code",
   "execution_count": 24,
   "metadata": {},
   "outputs": [
    {
     "data": {
      "text/plain": [
       "1.3080902109564159"
      ]
     },
     "execution_count": 24,
     "metadata": {},
     "output_type": "execute_result"
    }
   ],
   "source": [
    "galaxia.equate_resolutions(galaxia.numero_filtro, 160)"
   ]
  },
  {
   "cell_type": "markdown",
   "metadata": {},
   "source": [
    "## Finalmente, \n",
    "\n",
    "mostremos algunas imágenes, la primera es la imagen original, la segunda aplicando un suavizado para poder compararla con la imagen tomada con el filtro $160$. Adicional, mostramos la `varianza` asociada a cada uno de los píxeles de la imagen."
   ]
  },
  {
   "cell_type": "code",
   "execution_count": 25,
   "metadata": {},
   "outputs": [
    {
     "name": "stderr",
     "output_type": "stream",
     "text": [
      "<ipython-input-9-c1fd8a4b067f>:59: RuntimeWarning: invalid value encountered in log10\n",
      "  return plt.imshow(np.log10(data))\n"
     ]
    },
    {
     "data": {
      "text/plain": [
       "<matplotlib.image.AxesImage at 0x16952a52640>"
      ]
     },
     "execution_count": 25,
     "metadata": {},
     "output_type": "execute_result"
    },
    {
     "data": {
      "image/png": "[encoded data removed]",
      "text/plain": [
       "<Figure size 432x288 with 1 Axes>"
      ]
     },
     "metadata": {
      "needs_background": "light"
     },
     "output_type": "display_data"
    }
   ],
   "source": [
    "galaxia.mostrar_imagen(galaxia.data_sci)"
   ]
  },
  {
   "cell_type": "code",
   "execution_count": 26,
   "metadata": {},
   "outputs": [
    {
     "name": "stderr",
     "output_type": "stream",
     "text": [
      "<ipython-input-9-c1fd8a4b067f>:59: RuntimeWarning: invalid value encountered in log10\n",
      "  return plt.imshow(np.log10(data))\n"
     ]
    },
    {
     "data": {
      "text/plain": [
       "<matplotlib.image.AxesImage at 0x16952aa1e80>"
      ]
     },
     "execution_count": 26,
     "metadata": {},
     "output_type": "execute_result"
    },
    {
     "data": {
      "image/png": "[encoded data removed]",
      "text/plain": [
       "<Figure size 432x288 with 1 Axes>"
      ]
     },
     "metadata": {
      "needs_background": "light"
     },
     "output_type": "display_data"
    }
   ],
   "source": [
    "galaxia.mostrar_imagen(galaxia.data_conv)"
   ]
  },
  {
   "cell_type": "code",
   "execution_count": 27,
   "metadata": {},
   "outputs": [
    {
     "data": {
      "text/plain": [
       "array([[1.6263165e-07, 1.7632551e-07, 1.7688940e-07, ..., 1.7137123e-07,\n",
       "        1.7216729e-07, 1.7011460e-07],\n",
       "       [1.7159705e-07, 1.7050692e-07, 1.7158942e-07, ..., 1.6975090e-07,\n",
       "        1.6782610e-07, 1.7006138e-07],\n",
       "       [1.7283465e-07, 1.7841640e-07, 1.7417283e-07, ..., 1.6726548e-07,\n",
       "        1.6551402e-07, 1.6445387e-07],\n",
       "       ...,\n",
       "       [1.7308230e-07, 1.6925519e-07, 1.7005057e-07, ..., 1.7039333e-07,\n",
       "        1.7404729e-07, 1.8025517e-07],\n",
       "       [1.7262786e-07, 1.6959117e-07, 1.7466209e-07, ..., 1.6649383e-07,\n",
       "        1.6482720e-07, 1.7513213e-07],\n",
       "       [1.7346180e-07, 1.7446501e-07, 1.6990617e-07, ..., 1.6844136e-07,\n",
       "        1.7152099e-07, 1.7781150e-07]], dtype=float32)"
      ]
     },
     "execution_count": 27,
     "metadata": {},
     "output_type": "execute_result"
    }
   ],
   "source": [
    "galaxia.varianza"
   ]
  }
 ],
 "metadata": {
  "kernelspec": {
   "display_name": "Python 3",
   "language": "python",
   "name": "python3"
  },
  "language_info": {
   "codemirror_mode": {
    "name": "ipython",
    "version": 3
   },
   "file_extension": ".py",
   "mimetype": "text/x-python",
   "name": "python",
   "nbconvert_exporter": "python",
   "pygments_lexer": "ipython3",
   "version": "3.8.5"
  }
 },
 "nbformat": 4,
 "nbformat_minor": 4
}
